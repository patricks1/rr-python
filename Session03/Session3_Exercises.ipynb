{
 "cells": [
  {
   "cell_type": "markdown",
   "metadata": {},
   "source": [
    "# Python for Data Science, Level I\n",
    "### *Session \\#3*\n",
    "---\n",
    "\n",
    "### Helpful shortcuts\n",
    "---\n",
    "\n",
    "**SHIFT** + **ENTER** ----> Execute Cell\n",
    "\n",
    "**TAB** ----> See autocomplete options\n",
    "\n",
    "**ESC** then **b** ----> Create Cell \n",
    "\n",
    "**ESC** then **dd** ----> Delete Cell\n",
    "\n",
    "**\\[python expression\\]?** ---> Explanation of that Python expression\n",
    "\n",
    "**ESC** then **m** then __ENTER__ ----> Switch to Markdown mode"
   ]
  },
  {
   "cell_type": "markdown",
   "metadata": {},
   "source": [
    "## I. Review\n",
    "\n",
    "### Warm Ups\n",
    "\n",
    "---\n",
    "\n",
    "**Using a slice:** `\"theater\"[2:-2]`"
   ]
  },
  {
   "cell_type": "code",
   "execution_count": null,
   "metadata": {},
   "outputs": [],
   "source": []
  },
  {
   "cell_type": "markdown",
   "metadata": {},
   "source": [
    "**List literal:** `evil_jedi = [\"sidious\", \"vader\", \"maul\"]`"
   ]
  },
  {
   "cell_type": "code",
   "execution_count": null,
   "metadata": {},
   "outputs": [],
   "source": []
  },
  {
   "cell_type": "markdown",
   "metadata": {},
   "source": [
    "**Append**: `evil_jedi.append(\"dooku\")`"
   ]
  },
  {
   "cell_type": "code",
   "execution_count": null,
   "metadata": {},
   "outputs": [],
   "source": []
  },
  {
   "cell_type": "markdown",
   "metadata": {},
   "source": [
    "**Insert:** `evil_jedi.insert(2, \"rylo ken\")` "
   ]
  },
  {
   "cell_type": "code",
   "execution_count": null,
   "metadata": {},
   "outputs": [],
   "source": []
  },
  {
   "cell_type": "markdown",
   "metadata": {},
   "source": [
    "**Defining a function:**\n",
    "    \n",
    "```python\n",
    "def double(word):\n",
    "    answer = word + word\n",
    "    return answer\n",
    "``` "
   ]
  },
  {
   "cell_type": "code",
   "execution_count": null,
   "metadata": {},
   "outputs": [],
   "source": []
  },
  {
   "cell_type": "markdown",
   "metadata": {},
   "source": [
    "## Exercises\n",
    "---\n",
    "\n",
    "**1. Write a function** `dog_years()` **that will return a dog's age given its age in human years.**\n",
    "\n",
    "Hint: Every human year is equivalent to 7 dog years."
   ]
  },
  {
   "cell_type": "code",
   "execution_count": null,
   "metadata": {},
   "outputs": [],
   "source": []
  },
  {
   "cell_type": "markdown",
   "metadata": {},
   "source": [
    "**2. Write function** `remove_ends()` **which takes a string and returns only the middle letters, leaving off the first and last letter.**\n",
    "\n",
    "**You can assume the input string contains 2 or more characters.**\n",
    "\n",
    "Hint: Slicing is a good way to do this."
   ]
  },
  {
   "cell_type": "code",
   "execution_count": null,
   "metadata": {},
   "outputs": [],
   "source": []
  },
  {
   "cell_type": "markdown",
   "metadata": {},
   "source": [
    "**3. Write a function** `thanos()` **which takes a list and returns every other (ie. every odd-indexed) item in a new list**"
   ]
  },
  {
   "cell_type": "code",
   "execution_count": null,
   "metadata": {},
   "outputs": [],
   "source": []
  },
  {
   "cell_type": "markdown",
   "metadata": {},
   "source": [
    "**4. Write a function** `make_safe()` **which takes a list and adds the string** `\"pillow\"` **to the start and end of the list.**"
   ]
  },
  {
   "cell_type": "code",
   "execution_count": null,
   "metadata": {},
   "outputs": [],
   "source": []
  },
  {
   "cell_type": "markdown",
   "metadata": {},
   "source": [
    "## II. Booleans\n",
    "\n",
    "### Warm Ups\n",
    "*Type the given code into the cell below*\n",
    "\n",
    "---\n",
    "**Equals:** Test the equality of 10 and 12"
   ]
  },
  {
   "cell_type": "code",
   "execution_count": null,
   "metadata": {},
   "outputs": [],
   "source": []
  },
  {
   "cell_type": "markdown",
   "metadata": {},
   "source": [
    "**Greater than:** Test whether 12 is greater than 10"
   ]
  },
  {
   "cell_type": "code",
   "execution_count": null,
   "metadata": {},
   "outputs": [],
   "source": []
  },
  {
   "cell_type": "markdown",
   "metadata": {},
   "source": [
    "**Greater than or Equal to:** Test whether 12 is greater than or equal to 10"
   ]
  },
  {
   "cell_type": "code",
   "execution_count": null,
   "metadata": {},
   "outputs": [],
   "source": []
  },
  {
   "cell_type": "markdown",
   "metadata": {},
   "source": [
    "**And:** What do you think the result will be of `True and True`?"
   ]
  },
  {
   "cell_type": "code",
   "execution_count": null,
   "metadata": {},
   "outputs": [],
   "source": []
  },
  {
   "cell_type": "markdown",
   "metadata": {},
   "source": [
    "**Or:** What do you think the result will be of `True or False`?"
   ]
  },
  {
   "cell_type": "code",
   "execution_count": null,
   "metadata": {},
   "outputs": [],
   "source": []
  },
  {
   "cell_type": "markdown",
   "metadata": {},
   "source": [
    "**Not:** What do you think the result will be of `not False`?"
   ]
  },
  {
   "cell_type": "code",
   "execution_count": null,
   "metadata": {},
   "outputs": [],
   "source": []
  },
  {
   "cell_type": "markdown",
   "metadata": {},
   "source": [
    "**In:** The boolean operator `in` returns whether an element is contained in an object  \n",
    "E.g.: `x in object` will return `True` or `False`.  \n",
    "Test whether 'i' is in 'team'."
   ]
  },
  {
   "cell_type": "code",
   "execution_count": null,
   "metadata": {},
   "outputs": [],
   "source": []
  },
  {
   "cell_type": "markdown",
   "metadata": {},
   "source": [
    "### Exercises\n",
    "---\n",
    "**1. Change the following code to make the result** `True`"
   ]
  },
  {
   "cell_type": "code",
   "execution_count": null,
   "metadata": {},
   "outputs": [],
   "source": [
    "my_boolean = True\n",
    "True and (not my_boolean)"
   ]
  },
  {
   "cell_type": "markdown",
   "metadata": {},
   "source": [
    "**2. Write a function that will say whether a given sentence is a palindrome, i.e. the same backwards.**\n",
    "\n",
    "Hint: You can use .replace(\" \", \"\") to remove any spaces from a string."
   ]
  },
  {
   "cell_type": "code",
   "execution_count": null,
   "metadata": {},
   "outputs": [],
   "source": []
  },
  {
   "cell_type": "markdown",
   "metadata": {},
   "source": [
    "**3. Write a function** `cool_word()` **that will return** `True` **if the given string starts with a** `c` **or ends with a** `d`, **and** `False` **otherwise**\n",
    "\n",
    "**For example,** `cool_word(\"word\")` **returns** `True` **but** `cool_word(\"tree\")` **returns** `False`"
   ]
  },
  {
   "cell_type": "code",
   "execution_count": null,
   "metadata": {},
   "outputs": [],
   "source": [
    "    "
   ]
  },
  {
   "cell_type": "markdown",
   "metadata": {},
   "source": [
    "### Extra Credit\n",
    "---\n",
    "**1. Write a function that will say whether two strings are anagrams of each other, i.e. a rearrangement of the same letters.** \n",
    "\n",
    "Hint: Use sorted() to put a string into alphabetical order."
   ]
  },
  {
   "cell_type": "code",
   "execution_count": null,
   "metadata": {},
   "outputs": [],
   "source": []
  },
  {
   "cell_type": "markdown",
   "metadata": {},
   "source": [
    "## III. Conditional Statements"
   ]
  },
  {
   "cell_type": "markdown",
   "metadata": {},
   "source": [
    "### Warm Ups\n",
    "\n",
    "---\n",
    "**If statement:**\n",
    "*Type the given code into the cell below.*\n",
    "```python\n",
    "say_hello = True\n",
    "```\n",
    "Then write a function that prints 'Hi there, partner!' if `say_hello` is true."
   ]
  },
  {
   "cell_type": "code",
   "execution_count": null,
   "metadata": {},
   "outputs": [],
   "source": []
  },
  {
   "cell_type": "markdown",
   "metadata": {},
   "source": [
    "**If-else statement:**  \n",
    "\n",
    "Type the following:\n",
    "```python\n",
    "work_hard = True\n",
    "```\n",
    "Then write a procedure that assigns a grade of 'A' if the student worked hard, 'C' otherwise.\n",
    "\n",
    "Print the result as 'You received a `grade` grade'."
   ]
  },
  {
   "cell_type": "code",
   "execution_count": null,
   "metadata": {},
   "outputs": [],
   "source": []
  },
  {
   "cell_type": "markdown",
   "metadata": {},
   "source": [
    "**If-elif-else statement:**\n",
    "    \n",
    "Write a procedure that prints  \n",
    "'Give me that! Yes!' if an object named `flavor` is 'chocolate',  \n",
    "'I guess I'll eat it.' if `flavor` is 'vanilla',  \n",
    "and 'Ew, no thanks.' otherwise."
   ]
  },
  {
   "cell_type": "code",
   "execution_count": null,
   "metadata": {},
   "outputs": [],
   "source": []
  },
  {
   "cell_type": "markdown",
   "metadata": {},
   "source": [
    "### Exercises\n",
    "---\n",
    "**1. Call the following function with different integer inputs, to get it to return each of its messages. You do not need to modify the function.**"
   ]
  },
  {
   "cell_type": "code",
   "execution_count": null,
   "metadata": {},
   "outputs": [],
   "source": [
    "def thermostat(temp):\n",
    "    if temp < 40:\n",
    "        return \"BRR IT'S COLD OUT HERE!\"\n",
    "    elif temp < 60:\n",
    "        return \"Better bring a sweater.\"\n",
    "    else:\n",
    "        return \"Yay! T-shirt weather!\"\n",
    "    "
   ]
  },
  {
   "cell_type": "markdown",
   "metadata": {},
   "source": [
    "**2. Write a function that returns** `\"EVEN\"` **or** `\"ODD\"` **depending on if the input number is even or odd.** "
   ]
  },
  {
   "cell_type": "code",
   "execution_count": null,
   "metadata": {},
   "outputs": [],
   "source": []
  },
  {
   "cell_type": "markdown",
   "metadata": {},
   "source": [
    "**3. Write a function that will return** `\"ACCESS DENIED\"` **for any name but yours. Print** `\"ACCESS GRANTED\"` **for your name.**"
   ]
  },
  {
   "cell_type": "code",
   "execution_count": null,
   "metadata": {},
   "outputs": [],
   "source": []
  },
  {
   "cell_type": "markdown",
   "metadata": {},
   "source": [
    "**4. Write a function** `price_checker()` **that will return** `\"Expensive\"`, `\"Reasonable\"` or `\"Cheap\"` **depending on how large of a number you give as input.**\n",
    "\n",
    "**Let's say less than 20 is cheap, but greater than 50 is expensive**"
   ]
  },
  {
   "cell_type": "code",
   "execution_count": null,
   "metadata": {},
   "outputs": [],
   "source": []
  },
  {
   "cell_type": "markdown",
   "metadata": {},
   "source": [
    "**5. Write a function** `close_or_far()` **which takes two integers. If the integers differ by less than 2 return** `\"close\"`**,  else return** `\"far\"`\n",
    "\n",
    "Hint: The abs() function will return the absolute value of a number."
   ]
  },
  {
   "cell_type": "code",
   "execution_count": null,
   "metadata": {},
   "outputs": [],
   "source": []
  },
  {
   "cell_type": "markdown",
   "metadata": {},
   "source": [
    "### Extra Credit\n",
    "---\n",
    "**1. Write a function that, given any letter, will return** `\"VOWEL\"` **or** `\"CONSONANT\"` **depending on if the letter is a vowel or consonant.**\n",
    "\n",
    "Hint: Check if the letter is in the vowels"
   ]
  },
  {
   "cell_type": "code",
   "execution_count": null,
   "metadata": {},
   "outputs": [],
   "source": []
  }
 ],
 "metadata": {
  "kernelspec": {
   "display_name": "Python 3 (ipykernel)",
   "language": "python",
   "name": "python3"
  },
  "language_info": {
   "codemirror_mode": {
    "name": "ipython",
    "version": 3
   },
   "file_extension": ".py",
   "mimetype": "text/x-python",
   "name": "python",
   "nbconvert_exporter": "python",
   "pygments_lexer": "ipython3",
   "version": "3.11.4"
  }
 },
 "nbformat": 4,
 "nbformat_minor": 4
}
